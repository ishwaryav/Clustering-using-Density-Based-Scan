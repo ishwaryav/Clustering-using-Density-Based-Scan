{
 "cells": [
  {
   "cell_type": "code",
   "execution_count": 1,
   "metadata": {
    "collapsed": true
   },
   "outputs": [],
   "source": [
    "import numpy as np\n",
    "import pandas as pd\n",
    "from scipy.sparse import csr_matrix"
   ]
  },
  {
   "cell_type": "code",
   "execution_count": 2,
   "metadata": {
    "collapsed": true
   },
   "outputs": [],
   "source": [
    "def build_matrix(fname,nidx=1):\n",
    "    \n",
    "    with open(fname) as f:\n",
    "        lines = f.readlines()\n",
    "    \n",
    "    nrows = len(lines)\n",
    "    ncols = 0 \n",
    "    nnz = 0 \n",
    "    for i in xrange(nrows):\n",
    "        p = lines[i].split()\n",
    "        if len(p) % 2 != 0:\n",
    "            raise ValueError(\"Invalid CSR matrix. Row %d contains %d numbers.\" % (i, len(p)))\n",
    "        nnz += len(p)/2\n",
    "        for j in xrange(0, len(p), 2): \n",
    "            cid = int(p[j]) - nidx\n",
    "            if cid+1 > ncols:\n",
    "                ncols = cid+1\n",
    "    val = np.zeros(nnz, dtype=np.float)\n",
    "    ind = np.zeros(nnz, dtype=np.int)\n",
    "    ptr = np.zeros(nrows+1, dtype=np.long)\n",
    "    n = 0 \n",
    "    for i in xrange(nrows):\n",
    "        p = lines[i].split()\n",
    "        for j in xrange(0, len(p), 2): \n",
    "            ind[n] = int(p[j]) - nidx\n",
    "            val[n] = float(p[j+1])\n",
    "            n += 1\n",
    "        ptr[i+1] = n \n",
    "    #print(\"Yes\")\n",
    "    assert(n == nnz)\n",
    "    \n",
    "    mat = csr_matrix((val, ind, ptr), shape=(nrows, ncols), dtype=np.double)\n",
    "    #mat.sort_indices()\n",
    "    \n",
    "    return mat"
   ]
  },
  {
   "cell_type": "code",
   "execution_count": 3,
   "metadata": {
    "collapsed": true
   },
   "outputs": [],
   "source": [
    "def csr_l2normalize(mat, copy=False, **kargs):\n",
    "    r\"\"\" Normalize the rows of a CSR matrix by their L-2 norm. \n",
    "    If copy is True, returns a copy of the normalized matrix.\n",
    "    \"\"\"\n",
    "    if copy is True:\n",
    "        mat = mat.copy()\n",
    "    nrows = mat.shape[0]\n",
    "    nnz = mat.nnz\n",
    "    ind, val, ptr = mat.indices, mat.data, mat.indptr\n",
    "    # normalize\n",
    "    for i in range(nrows):\n",
    "        rsum = 0.0    \n",
    "        for j in range(ptr[i], ptr[i+1]):\n",
    "            rsum += val[j]**2\n",
    "        if rsum == 0.0:\n",
    "            continue  # do not normalize empty rows\n",
    "        rsum = 1.0/np.sqrt(rsum)\n",
    "        for j in range(ptr[i], ptr[i+1]):\n",
    "            val[j] *= rsum\n",
    "            \n",
    "    if copy is True:\n",
    "        return mat"
   ]
  },
  {
   "cell_type": "code",
   "execution_count": 4,
   "metadata": {
    "collapsed": true
   },
   "outputs": [],
   "source": [
    "csr_m =build_matrix('train.dat')"
   ]
  },
  {
   "cell_type": "code",
   "execution_count": 5,
   "metadata": {
    "collapsed": true
   },
   "outputs": [],
   "source": [
    "csr_l2normalize(csr_m)"
   ]
  },
  {
   "cell_type": "code",
   "execution_count": 6,
   "metadata": {
    "collapsed": true
   },
   "outputs": [],
   "source": [
    "from sklearn.decomposition import TruncatedSVD\n",
    "svd = TruncatedSVD(n_components=50)\n",
    "csr_m = svd.fit_transform(csr_m)"
   ]
  },
  {
   "cell_type": "code",
   "execution_count": null,
   "metadata": {
    "collapsed": true
   },
   "outputs": [],
   "source": [
    "import math\n",
    "\n",
    "distance_matrix = np.zeros((8580, 8580))\n",
    "\n",
    "def calc_dist(r1, r2):\n",
    "    d = 0\n",
    "    for val in range(len(r1)):\n",
    "        d = np.power((r1[val] - r2[val]), 2).sum()\n",
    "    d = math.sqrt(d)\n",
    "    return d\n",
    "\n",
    "for i in range(0, 8579):\n",
    "    curr_row =  csr_m[i, :]\n",
    "    for j in range(i+1, 8580):\n",
    "        oth_row = csr_m[j, :]\n",
    "        if(distance_matrix[i][j] == 0 and distance_matrix[j][i] == 0):\n",
    "            distance_matrix[i][j] = distance_matrix[j][i] = calc_dist(curr_row, oth_row)"
   ]
  },
  {
   "cell_type": "code",
   "execution_count": 14,
   "metadata": {},
   "outputs": [
    {
     "name": "stdout",
     "output_type": "stream",
     "text": [
      "[[ 0.          0.07530737  0.03923073 ...,  0.02118301  0.04750716\n",
      "   0.16230041]\n",
      " [ 0.07530737  0.          0.03607664 ...,  0.09649038  0.12281453\n",
      "   0.23760778]\n",
      " [ 0.03923073  0.03607664  0.         ...,  0.06041374  0.08673789\n",
      "   0.20153114]\n",
      " ..., \n",
      " [ 0.02118301  0.09649038  0.06041374 ...,  0.          0.02632415\n",
      "   0.1411174 ]\n",
      " [ 0.04750716  0.12281453  0.08673789 ...,  0.02632415  0.          0.11479325]\n",
      " [ 0.16230041  0.23760778  0.20153114 ...,  0.1411174   0.11479325  0.        ]]\n"
     ]
    }
   ],
   "source": [
    "print distance_matrix"
   ]
  },
  {
   "cell_type": "code",
   "execution_count": 9,
   "metadata": {},
   "outputs": [
    {
     "name": "stdout",
     "output_type": "stream",
     "text": [
      "8580\n"
     ]
    }
   ],
   "source": [
    "print (distance_matrix.shape[0])"
   ]
  },
  {
   "cell_type": "code",
   "execution_count": 8,
   "metadata": {
    "collapsed": true
   },
   "outputs": [],
   "source": [
    "def dbscan(matrix, min_points, eps):\n",
    "    noise = []\n",
    "    core = []\n",
    "    visited = []\n",
    "    clusters = []\n",
    "    index1 = -1\n",
    "    border = []\n",
    "    for row_ptr in range(len(matrix)):\n",
    "        if row_ptr not in visited:\n",
    "            visited.append(row_ptr)\n",
    "            neighbors1 = []\n",
    "            neighbors2 = []\n",
    "            for col_ptr in range(len(matrix[row_ptr])):\n",
    "                if(matrix[row_ptr][col_ptr] <= eps):\n",
    "                    neighbors1.append(col_ptr)\n",
    "                    \n",
    "            if(len(neighbors1) < min_points):\n",
    "                noise.append(row_ptr)\n",
    "            else:\n",
    "                index1 += 1\n",
    "                core.append(row_ptr)\n",
    "                clusters.append([])\n",
    "                clusters[index1].append(row_ptr)\n",
    "                for pts in neighbors1:\n",
    "                    if pts not in visited:\n",
    "                        visited.append(pts)\n",
    "                        point = matrix[pts,:]\n",
    "                        for p in range(len(point)):\n",
    "                            if(point[p] <= eps):\n",
    "                                neighbors2.append(p)\n",
    "                        if(len(neighbors2) > min_points):\n",
    "                            core.append(pts)\n",
    "                            clusters[index1].append(pts)\n",
    "#                             print (\"ind \", index1)\n",
    "                        else:\n",
    "                            border.append(pts)\n",
    "                            clusters[index1].append(pts)\n",
    "\n",
    "    print (\"clusters \", len(clusters))\n",
    "    print (\"core \" , len(core))\n",
    "    print (\"border \", len(border))\n",
    "    print (\"noise \", len(noise))\n",
    "    \n",
    "    f = open(\"output.dat\", \"w\")\n",
    "    for i in range(distance_matrix.shape[0]):\n",
    "        for lst in range(0, len(clusters)):\n",
    "            if i in clusters[lst]:\n",
    "                f.write(str(int(lst)))\n",
    "                f.write('\\n')\n",
    "    f.close()"
   ]
  },
  {
   "cell_type": "code",
   "execution_count": 9,
   "metadata": {},
   "outputs": [
    {
     "name": "stdout",
     "output_type": "stream",
     "text": [
      "('clusters ', 10)\n",
      "('core ', 8578)\n",
      "('border ', 0)\n",
      "('noise ', 2)\n"
     ]
    }
   ],
   "source": [
    "dbscan(distance_matrix, 30, 0.05)\n",
    "# dbscan(distance_matrix, 21, 0.01)"
   ]
  }
 ],
 "metadata": {
  "kernelspec": {
   "display_name": "Python 2",
   "language": "python",
   "name": "python2"
  },
  "language_info": {
   "codemirror_mode": {
    "name": "ipython",
    "version": 2
   },
   "file_extension": ".py",
   "mimetype": "text/x-python",
   "name": "python",
   "nbconvert_exporter": "python",
   "pygments_lexer": "ipython2",
   "version": "2.7.14"
  }
 },
 "nbformat": 4,
 "nbformat_minor": 2
}
